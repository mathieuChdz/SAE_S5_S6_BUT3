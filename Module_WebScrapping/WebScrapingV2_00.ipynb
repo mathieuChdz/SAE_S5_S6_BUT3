{
 "nbformat": 4,
 "nbformat_minor": 0,
 "metadata": {
  "colab": {
   "provenance": []
  },
  "kernelspec": {
   "name": "python3",
   "language": "python",
   "display_name": "Python 3 (ipykernel)"
  },
  "language_info": {
   "name": "python"
  }
 },
 "cells": [
  {
   "cell_type": "code",
   "source": [
    "pip install selenium"
   ],
   "metadata": {
    "colab": {
     "base_uri": "https://localhost:8080/",
     "height": 0
    },
    "id": "zTPBL3kt89km",
    "outputId": "b983e6a0-d055-45ee-ef54-84ef918964a5",
    "ExecuteTime": {
     "end_time": "2024-01-10T09:55:53.155228500Z",
     "start_time": "2024-01-10T09:55:45.402267200Z"
    }
   },
   "execution_count": 2,
   "outputs": [
    {
     "name": "stdout",
     "output_type": "stream",
     "text": [
      "Note: you may need to restart the kernel to use updated packages.Collecting selenium\n",
      "  Obtaining dependency information for selenium from https://files.pythonhosted.org/packages/dc/72/96b5afa16908f9abc7c24b70adfd3a46c9740eb728ddfeab28379e38eaf9/selenium-4.16.0-py3-none-any.whl.metadata\n",
      "  Downloading selenium-4.16.0-py3-none-any.whl.metadata (6.9 kB)\n",
      "Requirement already satisfied: urllib3[socks]<3,>=1.26 in c:\\ws\\venv\\lib\\site-packages (from selenium) (2.1.0)\n",
      "Collecting trio~=0.17 (from selenium)\n",
      "  Obtaining dependency information for trio~=0.17 from https://files.pythonhosted.org/packages/14/fb/9299cf74953f473a15accfdbe2c15218e766bae8c796f2567c83bae03e98/trio-0.24.0-py3-none-any.whl.metadata\n",
      "  Downloading trio-0.24.0-py3-none-any.whl.metadata (4.9 kB)\n",
      "Collecting trio-websocket~=0.9 (from selenium)\n",
      "  Obtaining dependency information for trio-websocket~=0.9 from https://files.pythonhosted.org/packages/48/be/a9ae5f50cad5b6f85bd2574c2c923730098530096e170c1ce7452394d7aa/trio_websocket-0.11.1-py3-none-any.whl.metadata\n",
      "  Downloading trio_websocket-0.11.1-py3-none-any.whl.metadata (4.7 kB)\n",
      "Requirement already satisfied: certifi>=2021.10.8 in c:\\ws\\venv\\lib\\site-packages (from selenium) (2023.11.17)\n",
      "Requirement already satisfied: attrs>=20.1.0 in c:\\ws\\venv\\lib\\site-packages (from trio~=0.17->selenium) (23.2.0)\n",
      "Collecting sortedcontainers (from trio~=0.17->selenium)\n",
      "  Downloading sortedcontainers-2.4.0-py2.py3-none-any.whl (29 kB)\n",
      "Requirement already satisfied: idna in c:\\ws\\venv\\lib\\site-packages (from trio~=0.17->selenium) (3.6)\n",
      "Collecting outcome (from trio~=0.17->selenium)\n",
      "  Obtaining dependency information for outcome from https://files.pythonhosted.org/packages/55/8b/5ab7257531a5d830fc8000c476e63c935488d74609b50f9384a643ec0a62/outcome-1.3.0.post0-py2.py3-none-any.whl.metadata\n",
      "  Downloading outcome-1.3.0.post0-py2.py3-none-any.whl.metadata (2.6 kB)\n",
      "Requirement already satisfied: sniffio>=1.3.0 in c:\\ws\\venv\\lib\\site-packages (from trio~=0.17->selenium) (1.3.0)\n",
      "Requirement already satisfied: cffi>=1.14 in c:\\ws\\venv\\lib\\site-packages (from trio~=0.17->selenium) (1.16.0)\n",
      "Collecting wsproto>=0.14 (from trio-websocket~=0.9->selenium)\n",
      "  Downloading wsproto-1.2.0-py3-none-any.whl (24 kB)\n",
      "Collecting pysocks!=1.5.7,<2.0,>=1.5.6 (from urllib3[socks]<3,>=1.26->selenium)\n",
      "  Downloading PySocks-1.7.1-py3-none-any.whl (16 kB)\n",
      "Requirement already satisfied: pycparser in c:\\ws\\venv\\lib\\site-packages (from cffi>=1.14->trio~=0.17->selenium) (2.21)\n",
      "Collecting h11<1,>=0.9.0 (from wsproto>=0.14->trio-websocket~=0.9->selenium)\n",
      "  Downloading h11-0.14.0-py3-none-any.whl (58 kB)\n",
      "     ---------------------------------------- 0.0/58.3 kB ? eta -:--:--\n",
      "     ---------------------------------------- 58.3/58.3 kB 3.0 MB/s eta 0:00:00\n",
      "Downloading selenium-4.16.0-py3-none-any.whl (10.0 MB)\n",
      "   ---------------------------------------- 0.0/10.0 MB ? eta -:--:--\n",
      "   ------ --------------------------------- 1.7/10.0 MB 36.4 MB/s eta 0:00:01\n",
      "   ------------- -------------------------- 3.3/10.0 MB 41.6 MB/s eta 0:00:01\n",
      "   -------------------------------------- - 9.5/10.0 MB 87.5 MB/s eta 0:00:01\n",
      "   ---------------------------------------  10.0/10.0 MB 79.6 MB/s eta 0:00:01\n",
      "   ---------------------------------------- 10.0/10.0 MB 57.9 MB/s eta 0:00:00\n",
      "Downloading trio-0.24.0-py3-none-any.whl (460 kB)\n",
      "   ---------------------------------------- 0.0/460.2 kB ? eta -:--:--\n",
      "   ---------------------------------------- 460.2/460.2 kB ? eta 0:00:00\n",
      "Downloading trio_websocket-0.11.1-py3-none-any.whl (17 kB)\n",
      "Downloading outcome-1.3.0.post0-py2.py3-none-any.whl (10 kB)\n",
      "Installing collected packages: sortedcontainers, pysocks, outcome, h11, wsproto, trio, trio-websocket, selenium\n",
      "Successfully installed h11-0.14.0 outcome-1.3.0.post0 pysocks-1.7.1 selenium-4.16.0 sortedcontainers-2.4.0 trio-0.24.0 trio-websocket-0.11.1 wsproto-1.2.0\n"
     ]
    },
    {
     "name": "stderr",
     "output_type": "stream",
     "text": [
      "\n",
      "[notice] A new release of pip is available: 23.2.1 -> 23.3.2\n",
      "[notice] To update, run: python.exe -m pip install --upgrade pip\n"
     ]
    }
   ]
  },
  {
   "cell_type": "code",
   "execution_count": 3,
   "outputs": [
    {
     "name": "stdout",
     "output_type": "stream",
     "text": [
      "Collecting pandas\n",
      "  Obtaining dependency information for pandas from https://files.pythonhosted.org/packages/ae/d9/3741b344f57484b423cd22194025a8489992ad9962196a62721ef9980045/pandas-2.1.4-cp312-cp312-win_amd64.whl.metadata\n",
      "  Downloading pandas-2.1.4-cp312-cp312-win_amd64.whl.metadata (18 kB)\n",
      "Collecting numpy<2,>=1.26.0 (from pandas)\n",
      "  Obtaining dependency information for numpy<2,>=1.26.0 from https://files.pythonhosted.org/packages/ad/11/52fbe97fd84c91105b651d25a122f8deed6d3519afb14f9771fac1c9b7de/numpy-1.26.3-cp312-cp312-win_amd64.whl.metadata\n",
      "  Downloading numpy-1.26.3-cp312-cp312-win_amd64.whl.metadata (61 kB)\n",
      "     ---------------------------------------- 0.0/61.2 kB ? eta -:--:--\n",
      "     ------ --------------------------------- 10.2/61.2 kB ? eta -:--:--\n",
      "     ---------------------------------------- 61.2/61.2 kB 1.1 MB/s eta 0:00:00\n",
      "Requirement already satisfied: python-dateutil>=2.8.2 in c:\\ws\\venv\\lib\\site-packages (from pandas) (2.8.2)\n",
      "Collecting pytz>=2020.1 (from pandas)\n",
      "  Obtaining dependency information for pytz>=2020.1 from https://files.pythonhosted.org/packages/32/4d/aaf7eff5deb402fd9a24a1449a8119f00d74ae9c2efa79f8ef9994261fc2/pytz-2023.3.post1-py2.py3-none-any.whl.metadata\n",
      "  Downloading pytz-2023.3.post1-py2.py3-none-any.whl.metadata (22 kB)\n",
      "Collecting tzdata>=2022.1 (from pandas)\n",
      "  Obtaining dependency information for tzdata>=2022.1 from https://files.pythonhosted.org/packages/a3/fb/52b62131e21b24ee297e4e95ed41eba29647dad0e0051a92bb66b43c70ff/tzdata-2023.4-py2.py3-none-any.whl.metadata\n",
      "  Downloading tzdata-2023.4-py2.py3-none-any.whl.metadata (1.4 kB)\n",
      "Requirement already satisfied: six>=1.5 in c:\\ws\\venv\\lib\\site-packages (from python-dateutil>=2.8.2->pandas) (1.16.0)\n",
      "Downloading pandas-2.1.4-cp312-cp312-win_amd64.whl (10.5 MB)\n",
      "   ---------------------------------------- 0.0/10.5 MB ? eta -:--:--\n",
      "   -- ------------------------------------- 0.7/10.5 MB 23.1 MB/s eta 0:00:01\n",
      "   ---------- ----------------------------- 2.7/10.5 MB 33.9 MB/s eta 0:00:01\n",
      "   -------------------------------- ------- 8.6/10.5 MB 78.4 MB/s eta 0:00:01\n",
      "   ---------------------------------------  10.5/10.5 MB 81.8 MB/s eta 0:00:01\n",
      "   ---------------------------------------- 10.5/10.5 MB 65.1 MB/s eta 0:00:00\n",
      "Downloading numpy-1.26.3-cp312-cp312-win_amd64.whl (15.5 MB)\n",
      "   ---------------------------------------- 0.0/15.5 MB ? eta -:--:--\n",
      "   ----------- ---------------------------- 4.3/15.5 MB 139.1 MB/s eta 0:00:01\n",
      "   --------------------- ------------------ 8.2/15.5 MB 105.3 MB/s eta 0:00:01\n",
      "   ------------------------------ --------- 12.0/15.5 MB 110.0 MB/s eta 0:00:01\n",
      "   ---------------------------------------  15.5/15.5 MB 93.9 MB/s eta 0:00:01\n",
      "   ---------------------------------------  15.5/15.5 MB 93.9 MB/s eta 0:00:01\n",
      "   ---------------------------------------- 15.5/15.5 MB 59.4 MB/s eta 0:00:00\n",
      "Downloading pytz-2023.3.post1-py2.py3-none-any.whl (502 kB)\n",
      "   ---------------------------------------- 0.0/502.5 kB ? eta -:--:--\n",
      "   ---------------------------------------- 502.5/502.5 kB ? eta 0:00:00\n",
      "Downloading tzdata-2023.4-py2.py3-none-any.whl (346 kB)\n",
      "   ---------------------------------------- 0.0/346.6 kB ? eta -:--:--\n",
      "   --------------------------------------- 346.6/346.6 kB 21.0 MB/s eta 0:00:00\n",
      "Installing collected packages: pytz, tzdata, numpy, pandas\n",
      "Successfully installed numpy-1.26.3 pandas-2.1.4 pytz-2023.3.post1 tzdata-2023.4\n",
      "Note: you may need to restart the kernel to use updated packages.\n"
     ]
    },
    {
     "name": "stderr",
     "output_type": "stream",
     "text": [
      "\n",
      "[notice] A new release of pip is available: 23.2.1 -> 23.3.2\n",
      "[notice] To update, run: python.exe -m pip install --upgrade pip\n"
     ]
    }
   ],
   "source": [
    "pip install pandas"
   ],
   "metadata": {
    "collapsed": false,
    "ExecuteTime": {
     "end_time": "2024-01-10T09:56:19.180596800Z",
     "start_time": "2024-01-10T09:55:57.367388200Z"
    }
   }
  },
  {
   "cell_type": "code",
   "execution_count": 4,
   "outputs": [
    {
     "name": "stdout",
     "output_type": "stream",
     "text": [
      "Collecting scikit-learn\n",
      "  Obtaining dependency information for scikit-learn from https://files.pythonhosted.org/packages/fe/6b/db949ed5ac367987b1f250f070f340b7715d22f0c9c965bdf07de6ca75a3/scikit_learn-1.3.2-cp312-cp312-win_amd64.whl.metadata\n",
      "  Downloading scikit_learn-1.3.2-cp312-cp312-win_amd64.whl.metadata (11 kB)\n",
      "Requirement already satisfied: numpy<2.0,>=1.17.3 in c:\\ws\\venv\\lib\\site-packages (from scikit-learn) (1.26.3)\n",
      "Collecting scipy>=1.5.0 (from scikit-learn)\n",
      "  Obtaining dependency information for scipy>=1.5.0 from https://files.pythonhosted.org/packages/c6/a1/357e4cd43af2748e1e0407ae0e9a5ea8aaaa6b702833c81be11670dcbad8/scipy-1.11.4-cp312-cp312-win_amd64.whl.metadata\n",
      "  Downloading scipy-1.11.4-cp312-cp312-win_amd64.whl.metadata (60 kB)\n",
      "     ---------------------------------------- 0.0/60.4 kB ? eta -:--:--\n",
      "     ------ --------------------------------- 10.2/60.4 kB ? eta -:--:--\n",
      "     -------------------------------------- 60.4/60.4 kB 809.0 kB/s eta 0:00:00\n",
      "Collecting joblib>=1.1.1 (from scikit-learn)\n",
      "  Obtaining dependency information for joblib>=1.1.1 from https://files.pythonhosted.org/packages/10/40/d551139c85db202f1f384ba8bcf96aca2f329440a844f924c8a0040b6d02/joblib-1.3.2-py3-none-any.whl.metadata\n",
      "  Downloading joblib-1.3.2-py3-none-any.whl.metadata (5.4 kB)\n",
      "Collecting threadpoolctl>=2.0.0 (from scikit-learn)\n",
      "  Obtaining dependency information for threadpoolctl>=2.0.0 from https://files.pythonhosted.org/packages/81/12/fd4dea011af9d69e1cad05c75f3f7202cdcbeac9b712eea58ca779a72865/threadpoolctl-3.2.0-py3-none-any.whl.metadata\n",
      "  Downloading threadpoolctl-3.2.0-py3-none-any.whl.metadata (10.0 kB)\n",
      "Downloading scikit_learn-1.3.2-cp312-cp312-win_amd64.whl (9.1 MB)\n",
      "   ---------------------------------------- 0.0/9.1 MB ? eta -:--:--\n",
      "   --- ------------------------------------ 0.8/9.1 MB 16.6 MB/s eta 0:00:01\n",
      "   ---------------- ----------------------- 3.8/9.1 MB 40.6 MB/s eta 0:00:01\n",
      "   -------------------------------- ------- 7.5/9.1 MB 53.2 MB/s eta 0:00:01\n",
      "   ---------------------------------------  9.1/9.1 MB 58.0 MB/s eta 0:00:01\n",
      "   ---------------------------------------- 9.1/9.1 MB 48.5 MB/s eta 0:00:00\n",
      "Downloading joblib-1.3.2-py3-none-any.whl (302 kB)\n",
      "   ---------------------------------------- 0.0/302.2 kB ? eta -:--:--\n",
      "   ---------------------------------------- 302.2/302.2 kB ? eta 0:00:00\n",
      "Downloading scipy-1.11.4-cp312-cp312-win_amd64.whl (43.7 MB)\n",
      "   ---------------------------------------- 0.0/43.7 MB ? eta -:--:--\n",
      "   ----- ---------------------------------- 5.5/43.7 MB 116.6 MB/s eta 0:00:01\n",
      "   -------- ------------------------------- 9.7/43.7 MB 102.9 MB/s eta 0:00:01\n",
      "   ------------ --------------------------- 13.9/43.7 MB 108.8 MB/s eta 0:00:01\n",
      "   ---------------- ----------------------- 18.2/43.7 MB 93.0 MB/s eta 0:00:01\n",
      "   -------------------- ------------------- 22.2/43.7 MB 108.8 MB/s eta 0:00:01\n",
      "   ----------------------- ---------------- 26.2/43.7 MB 93.0 MB/s eta 0:00:01\n",
      "   --------------------------- ------------ 30.3/43.7 MB 81.8 MB/s eta 0:00:01\n",
      "   ------------------------------- -------- 34.4/43.7 MB 108.8 MB/s eta 0:00:01\n",
      "   ----------------------------------- ---- 38.7/43.7 MB 108.8 MB/s eta 0:00:01\n",
      "   -------------------------------------- - 42.5/43.7 MB 93.9 MB/s eta 0:00:01\n",
      "   ---------------------------------------  43.7/43.7 MB 93.0 MB/s eta 0:00:01\n",
      "   ---------------------------------------  43.7/43.7 MB 93.0 MB/s eta 0:00:01\n",
      "   ---------------------------------------  43.7/43.7 MB 93.0 MB/s eta 0:00:01\n",
      "   ---------------------------------------  43.7/43.7 MB 93.0 MB/s eta 0:00:01\n",
      "   ---------------------------------------- 43.7/43.7 MB 34.4 MB/s eta 0:00:00\n",
      "Downloading threadpoolctl-3.2.0-py3-none-any.whl (15 kB)\n",
      "Installing collected packages: threadpoolctl, scipy, joblib, scikit-learn\n",
      "Successfully installed joblib-1.3.2 scikit-learn-1.3.2 scipy-1.11.4 threadpoolctl-3.2.0\n",
      "Note: you may need to restart the kernel to use updated packages.\n"
     ]
    },
    {
     "name": "stderr",
     "output_type": "stream",
     "text": [
      "\n",
      "[notice] A new release of pip is available: 23.2.1 -> 23.3.2\n",
      "[notice] To update, run: python.exe -m pip install --upgrade pip\n"
     ]
    }
   ],
   "source": [
    "pip install scikit-learn"
   ],
   "metadata": {
    "collapsed": false,
    "ExecuteTime": {
     "end_time": "2024-01-10T09:56:44.171081600Z",
     "start_time": "2024-01-10T09:56:25.093825500Z"
    }
   }
  },
  {
   "cell_type": "code",
   "execution_count": 5,
   "metadata": {
    "id": "ZPb067kgLAh9",
    "ExecuteTime": {
     "end_time": "2024-01-10T09:56:54.709607100Z",
     "start_time": "2024-01-10T09:56:50.995679800Z"
    }
   },
   "outputs": [],
   "source": [
    "import requests\n",
    "from bs4 import BeautifulSoup\n",
    "import pandas as pd\n",
    "import numpy as np\n",
    "\n",
    "from sklearn.pipeline import Pipeline\n",
    "from sklearn.model_selection import train_test_split\n",
    "from sklearn.model_selection import GridSearchCV\n",
    "from sklearn.feature_extraction.text import TfidfVectorizer\n",
    "from sklearn.svm import SVC\n",
    "from sklearn.metrics import classification_report\n",
    "import joblib"
   ]
  },
  {
   "cell_type": "code",
   "execution_count": 30,
   "outputs": [],
   "source": [
    "model = joblib.load('train.joblib')"
   ],
   "metadata": {
    "collapsed": false,
    "ExecuteTime": {
     "end_time": "2024-01-10T10:35:43.908522600Z",
     "start_time": "2024-01-10T10:35:43.861116500Z"
    }
   }
  },
  {
   "cell_type": "markdown",
   "source": [
    "On va d'abord extraire les titres des articles d'un site d'information français, nous avons choisi le site [Le Monde](https://www.lemonde.fr/)"
   ],
   "metadata": {
    "id": "Kv36Z4-4hn3k"
   }
  },
  {
   "cell_type": "code",
   "source": [
    "url = 'https://www.lemonde.fr/'"
   ],
   "metadata": {
    "id": "J_7jChHjLMVN",
    "ExecuteTime": {
     "end_time": "2024-01-10T11:01:14.386917900Z",
     "start_time": "2024-01-10T11:01:14.386413200Z"
    }
   },
   "execution_count": 38,
   "outputs": []
  },
  {
   "cell_type": "code",
   "source": [
    "headers = {\n",
    "    'User-Agent': 'Mozilla/5.0 (Windows NT 10.0; Win64; x64) AppleWebKit/537.36 (KHTML, like Gecko) Chrome/91.0.4472.124 Safari/537.36'\n",
    "}\n",
    "response = requests.get(url, headers=headers)"
   ],
   "metadata": {
    "id": "Y3N4of4nLRq3",
    "ExecuteTime": {
     "end_time": "2024-01-10T11:01:15.356779800Z",
     "start_time": "2024-01-10T11:01:14.860452800Z"
    }
   },
   "execution_count": 39,
   "outputs": []
  },
  {
   "cell_type": "code",
   "source": [
    "titres = None\n",
    "if response.status_code == 200:\n",
    "    # Utiliser Beautiful Soup pour extraire le contenu HTML de la page\n",
    "    soup = BeautifulSoup(response.content, 'html.parser')\n",
    "\n",
    "    # Exemple : Extraire tous les titres d'articles\n",
    "    titres = soup.find_all('p', class_='article__title')\n",
    "\n",
    "    # Afficher les titres\n",
    "    for title in titres:\n",
    "        print(title.text.strip())\n",
    "        print(\"\\n\")\n",
    "else:\n",
    "    print(f\"La requête a échoué avec le code d'état {response.status_code}\")\n",
    "for i in range(len(titres)): \n",
    "    titres[i] = titres[i].text.strip()"
   ],
   "metadata": {
    "colab": {
     "base_uri": "https://localhost:8080/",
     "height": 0
    },
    "id": "2GUwI44RLfIt",
    "outputId": "86c632e6-2f90-4afe-c4e7-fe40ef716bbd",
    "ExecuteTime": {
     "end_time": "2024-01-10T11:04:59.366809100Z",
     "start_time": "2024-01-10T11:04:59.312849500Z"
    }
   },
   "execution_count": 57,
   "outputs": [
    {
     "name": "stdout",
     "output_type": "stream",
     "text": [
      "Le patron de Boeing reconnaît une « erreur » après la défaillance lors du vol Alaska Airlines\n",
      "\n",
      "\n",
      "Google, Apple vs Epic Games : « Le monopole des géants du numérique s’érode trop doucement »\n",
      "\n",
      "\n",
      "Cryptomonnaies : « Le bitcoin est au départ l’argent des pirates et des anarchistes du Net »\n",
      "\n",
      "\n",
      "COP28 : « Comment est né ce sentiment de satisfaction et d’héroïsme qui entoure les négociateurs »\n",
      "\n",
      "\n",
      "Pourquoi l’avenir du Moyen-Orient dépend autant d’Israël\n",
      "\n",
      "\n",
      "Pouvait-on anticiper les inondations dans le Pas-de-Calais ?\n",
      "\n",
      "\n",
      "Les coulisses de notre enquête « Narco Business » sur le trafic de fentanyl des cartels mexicains\n",
      "\n",
      "\n",
      "Israël-Palestine : que veut vraiment le Hamas ?\n",
      "\n",
      "\n",
      "Les risques du pari Gabriel Attal\n",
      "\n",
      "\n",
      "En ces temps tragiques, que nous est-il permis d’espérer ?\n",
      "\n",
      "\n",
      "« Encourager l’inefficacité économique par des barrières douanières, comme le préconise Trump, conduit à un appauvrissement »\n",
      "\n",
      "\n",
      "COP28 : « Comment est né ce sentiment de satisfaction et d’héroïsme qui entoure les négociateurs »\n",
      "\n",
      "\n",
      "« Bonnard, Pierre et Marthe » : Martin Provost filme la femme derrière le peintre\n",
      "\n",
      "\n",
      "« Aliénés », d’Anatole Le Bras : à hauteur d’internés\n",
      "\n",
      "\n",
      "« Régimes présidentiels », sur Paris Première : entre péchés mignons et gastrodiplomatie du palais\n",
      "\n",
      "\n",
      "Le réalisateur Samuel Theis visé par une enquête préliminaire après une accusation de viol\n",
      "\n",
      "\n",
      "Le patchwork de cadres s’affiche\n",
      "\n",
      "\n",
      "Comment les maisons de mode tissent les fils de leur histoire\n",
      "\n",
      "\n",
      "Trois recettes de couscous aux légumes\n",
      "\n",
      "\n",
      "Les fantasmes érotiques, un jardin secret à cultiver\n",
      "\n",
      "\n",
      "Sur X, un piratage du compte de la SEC fait s’envoler le cours du bitcoin\n",
      "\n",
      "\n",
      "Dans l’automobile allemande, la transition vers l’électrique est bien plus douloureuse que prévu\n",
      "\n",
      "\n",
      "Neige et verglas : la vigilance orange a été levée dans tous les départements du Nord-Ouest\n",
      "\n",
      "\n",
      "Les musées français partagés entre hausse des tarifs et gratuité\n",
      "\n",
      "\n",
      "Paris 2024 : « Les équipes ne travaillent pas sur un autre lieu que la Seine » pour la cérémonie d’ouverture, selon Tony Estanguet\n",
      "\n",
      "\n",
      "La stérilisation volontaire avant 30 ans : « Les jeunes femmes qui viennent faire une ligature sont loin de le faire sur un coup de tête »\n",
      "\n",
      "\n",
      "Gabriel Attal à Matignon, la promotion spectaculaire d’un fidèle du chef de l’Etat\n",
      "\n",
      "\n",
      "L’eau en bouteille massivement polluée par des nanoparticules de plastique\n",
      "\n",
      "\n",
      "Avant 30 ans, ces jeunes qui savent déjà ne pas vouloir d’enfant : « Ce non-désir est viscéral, comme peut l’être l’envie de devenir parent »\n",
      "\n",
      "\n",
      "Les risques du pari Gabriel Attal\n",
      "\n",
      "\n",
      "Cryptomonnaies : « Le bitcoin est au départ l’argent des pirates et des anarchistes du Net »\n",
      "\n",
      "\n",
      "En ces temps tragiques, que nous est-il permis d’espérer ?\n",
      "\n",
      "\n",
      "En direct, Gabriel Attal devient premier ministre : Emmanuel Moulin nommé directeur de cabinet\n",
      "\n",
      "\n",
      "En direct, guerre en Ukraine : après les Etats-Unis, plusieurs pays condamnent le « transfert » d’armes nord-coréennes à la Russie\n",
      "\n",
      "\n",
      "Neige et verglas : dix départements en vigilance orange, limitation de la vitesse à 70 km/h sur certains axes en Ile-de-France\n",
      "\n",
      "\n",
      "Gabriel Attal à Matignon, la promotion spectaculaire d’un fidèle du chef de l’Etat\n",
      "\n",
      "\n",
      "Gabriel Attal à Matignon : les coulisses d’une nomination disputée\n",
      "\n",
      "\n",
      "Emmanuel Macron sermonné par l’académicien François Sureau sur le respect de l’Etat de droit\n",
      "\n",
      "\n",
      "Amours de jeunesse : « France Inter est en grève, je change de station et j’entends son nom, alors, mon cœur se met à battre »\n",
      "\n",
      "\n",
      "Le patron de Boeing reconnaît une « erreur » après la défaillance lors du vol Alaska Airlines\n",
      "\n",
      "\n",
      "En Pologne, Mariusz Kaminski, ancien ministre de l’intérieur, arrêté au palais présidentiel\n"
     ]
    }
   ]
  },
  {
   "cell_type": "markdown",
   "source": [
    "On va maintenant extraire les titres des articles d'un site d'information international, nous avons choisi le site américain [The Washington Post](https://www.washingtonpost.com/)"
   ],
   "metadata": {
    "id": "QChqcsoQiVJ8"
   }
  },
  {
   "cell_type": "code",
   "source": [
    "url2 = 'https://www.washingtonpost.com/'"
   ],
   "metadata": {
    "id": "gQZZnqpYe_Lc",
    "ExecuteTime": {
     "end_time": "2024-01-10T11:02:49.539406Z",
     "start_time": "2024-01-10T11:02:49.531922100Z"
    }
   },
   "execution_count": 49,
   "outputs": []
  },
  {
   "cell_type": "code",
   "source": [
    "response2 = requests.get(url2, headers=headers)"
   ],
   "metadata": {
    "id": "fH1d5yVZfL1D",
    "ExecuteTime": {
     "end_time": "2024-01-10T11:02:50.439945Z",
     "start_time": "2024-01-10T11:02:49.926563500Z"
    }
   },
   "execution_count": 50,
   "outputs": []
  },
  {
   "cell_type": "code",
   "source": [
    "titles = None\n",
    "if response2.status_code == 200:\n",
    "    # Utiliser Beautiful Soup pour extraire le contenu HTML de la page\n",
    "    soup = BeautifulSoup(response2.content, 'html.parser')\n",
    "\n",
    "    # Exemple : Extraire tous les titres d'articles\n",
    "    titles = soup.find_all('h2', class_='wpds-c-iiQaMf wpds-c-iiQaMf-ihElTZa-css')\n",
    "    titles = titles + soup.find_all('h2', class_='wpds-c-iiQaMf wpds-c-iiQaMf-ibYgSwf-css')\n",
    "\n",
    "    # Afficher les titres\n",
    "    for title in titles:\n",
    "        print(title.text.strip())\n",
    "        print(\"\\n\")\n",
    "else:\n",
    "    print(f\"La requête a échoué avec le code d'état {response.status_code}\")\n",
    "for i in range(len(titles)): \n",
    "    titles[i] = titles[i].text.strip()"
   ],
   "metadata": {
    "colab": {
     "base_uri": "https://localhost:8080/",
     "height": 0
    },
    "id": "Rsw73ApBfPSb",
    "outputId": "233070a0-1abc-4ba3-b593-4c1a3b0e79f5",
    "ExecuteTime": {
     "end_time": "2024-01-10T11:03:18.625205200Z",
     "start_time": "2024-01-10T11:03:18.566356900Z"
    }
   },
   "execution_count": 54,
   "outputs": [
    {
     "name": "stdout",
     "output_type": "stream",
     "text": [
      "Trump warns of ‘bedlam,’ declines to rule out violence after court hearing\n",
      "\n",
      "\n",
      "Trump co-defendant in Georgia accuses prosecutors of misconduct\n",
      "\n",
      "\n",
      "Try these quick fixes for congestion, sneezing and other sinus woes\n",
      "\n",
      "\n",
      "6 ways to be a smarter tipper in restaurants\n",
      "\n",
      "\n",
      "7 brain foods that can help you beat anxiety\n",
      "\n",
      "\n",
      "This fridge hack can slash your food waste\n",
      "\n",
      "\n",
      "Nine charged in brawl over attempt to close secret tunnel at NYC synagogue\n",
      "\n",
      "\n",
      "Is it safe to hold your baby on a flight? Boeing blowout stokes fears.\n",
      "\n",
      "\n",
      "How Lloyd Austin’s prostate cancer surgery led to hospitalization\n",
      "\n",
      "\n",
      "Amalija Knavs, mother of former first lady Melania Trump, dies at 78\n",
      "\n",
      "\n",
      "Trump warns of ‘bedlam,’ declines to rule out violence after court hearing\n",
      "\n",
      "\n",
      "The best (and weirdest) tech we found at CES 2024\n",
      "\n",
      "\n",
      "Hackers seize control of SEC’s X account to promote crypto\n",
      "\n",
      "\n",
      "Here’s what you’re really swallowing when you drink bottled water\n",
      "\n",
      "\n",
      "Would-be historic lunar mission won’t reach moon’s surface, company says\n",
      "\n",
      "\n",
      "Substack wanted to be neutral. Its tolerance of Nazis proved divisive.\n",
      "\n",
      "\n",
      "Understanding the Iowa caucuses and why they’re important to the election\n",
      "\n",
      "\n",
      "Ska-punk band Kill Lincoln returns to its roots in D.C.\n",
      "\n",
      "\n",
      "Trump rhetoric, Republican candidates’ ads frighten immigrants in Iowa\n",
      "\n",
      "\n",
      "White House weighs menthol ban amid dueling health, political pressures\n",
      "\n",
      "\n",
      "How well are you aging? How to discover your ‘fitness’ age.\n",
      "\n",
      "\n",
      "Money issues, juvenile justice to animate Md. General Assembly session\n",
      "\n",
      "\n",
      "‘Mean Girls’ is an adaptation of an adaptation. It’s one of many.\n",
      "\n",
      "\n",
      "On the Record\n",
      "\n",
      "\n",
      "Mini Meta Crossword\n",
      "\n",
      "\n",
      "Sudoku\n",
      "\n",
      "\n",
      "Keyword\n",
      "\n",
      "\n",
      "Trump wants revenge in 2024\n",
      "\n",
      "\n",
      "Think you need another car? Consider an e-bike instead.\n",
      "\n",
      "\n",
      "Have questions about dining out? Ask our food critic.\n",
      "\n",
      "\n",
      "David Oyelowo on Bass Reeves, history and storytelling in streaming era\n",
      "\n",
      "\n",
      "Trump’s sly ‘I’m immune from prosecution’ claim finally runs aground\n",
      "\n",
      "\n",
      "Not rich? Take this quiz to see how to build your wealth.\n",
      "\n",
      "\n",
      "Carolyn Hax: Who chooses what the grandkids eat when they visit grandparents?\n",
      "\n",
      "\n",
      "Violent political threats surge as 2024 begins, haunting American democracy\n",
      "\n",
      "\n",
      "What to expect in the final Republican debate before the Iowa caucuses\n",
      "\n",
      "\n",
      "DeSantis returns to Florida as campaign lags and mood in Tallahassee shifts\n",
      "\n",
      "\n",
      "Asa Hutchinson reminds Iowans who forgot him: ‘I’m still running’\n",
      "\n",
      "\n",
      "Lloyd Austin was treated for prostate cancer before emergency, Pentagon reveals\n",
      "\n",
      "\n",
      "Congress may need short-term government funding bill despite deal\n",
      "\n",
      "\n",
      "House GOP lawmakers keep hyping the numbers on Hunter Biden’s foreign deals\n",
      "\n",
      "\n",
      "Biden highlights the connection between rejecting democracy and race\n",
      "\n",
      "\n",
      "Judges appear skeptical that Trump is immune from Jan. 6 prosecution\n",
      "\n",
      "\n",
      "Trump claims immunity from prosecution in Georgia election case\n",
      "\n",
      "\n",
      "Ask Amy: Update from new mom whose husband takes constant work trips\n",
      "\n",
      "\n",
      "Miss Manners: I criticized cruises in front of a friend about to take one\n",
      "\n",
      "\n",
      "Should we tell our family and friends about our son’s autism diagnosis?\n",
      "\n",
      "\n",
      "Ask Sahaj: My sister married a difficult man. How do I support her?\n",
      "\n",
      "\n",
      "Should I take Paxlovid if I get covid? Here’s what to know.\n",
      "\n",
      "\n",
      "Pets may lower your dementia risk\n",
      "\n",
      "\n",
      "Your brain needs more rest than you’re giving it. These 9 tips can help.\n",
      "\n",
      "\n",
      "Try these quick fixes for congestion, sneezing and other sinus woes\n",
      "\n",
      "\n",
      "How plastic hides in supposedly eco-friendly laundry products\n",
      "\n",
      "\n",
      "Scientists knew 2023’s heat would be historic — but not by this much\n",
      "\n",
      "\n",
      "Yellow school buses are going green with a $1 billion investment\n",
      "\n",
      "\n",
      "The surprise reason these car brands are getting more expensive to drive\n",
      "\n",
      "\n",
      "High wind warning issued for D.C. area for gusts up 60 mph amid flooding rain\n",
      "\n",
      "\n",
      "Intense late-week storm to drag season’s coldest air into Lower 48\n",
      "\n",
      "\n",
      "Total solar eclipses will some day be impossible. Here’s why.\n",
      "\n",
      "\n",
      "Mountains in the West have a lot less snow than they should right now\n",
      "\n",
      "\n",
      "Amazon’s AI-written product reviews aren’t as bad as you think\n",
      "\n",
      "\n",
      "Samsung is betting your home needs an AI robot with a projector\n",
      "\n",
      "\n",
      "Millions to lose affordable internet unless Congress extends subsidies\n",
      "\n",
      "\n",
      "Meet the woman who transformed Sam Altman into the avatar of AI\n",
      "\n",
      "\n",
      "NRA defense denies corruption, praises group’s work in New York trial\n",
      "\n",
      "\n",
      "Man who was subject of Jan. 6 conspiracies sentenced to probation\n",
      "\n",
      "\n",
      "William Penn statue to stay in Welcome Park after National Park Service reversal\n",
      "\n",
      "\n",
      "NBA player finds dog, tracks down owner. The pup had been missing 4 years.\n",
      "\n",
      "\n",
      "Taiwan’s election explained: What’s at stake, and how will China react?\n",
      "\n",
      "\n",
      "U.S. citizen arrested on drug charges in Russia\n",
      "\n",
      "\n",
      "Gabriel Attal: What to know about France’s youngest prime minister\n",
      "\n",
      "\n",
      "South Korea bans dog meat trade as animal welfare attitudes shift\n",
      "\n",
      "\n",
      "Sinéad O’Connor death deemed natural by coroner, ruling out suicide\n",
      "\n",
      "\n",
      "The most anticipated video games of 2024\n",
      "\n",
      "\n",
      "‘The Book of Clarence’: Biblically inspired film mixes faith and farce\n",
      "\n",
      "\n",
      "‘The Teachers’ Lounge’: Life lessons intrude on the ivory tower\n",
      "\n",
      "\n",
      "Gov. Wes Moore proposes first state-level gun violence prevention center\n",
      "\n",
      "\n",
      "Police say DNA links man to killings in ‘Colonial Parkway murders’ case\n",
      "\n",
      "\n",
      "Six arrested in D.C. protesting Rep. Glenn Ivey’s ‘silence’ on Israel\n",
      "\n",
      "\n",
      "D.C. Council delays vote on controversial nominee to sentencing commission\n",
      "\n",
      "\n",
      "D.C.-area forecast: Drying out today with a gusty breeze. Next storm arrives late Friday.\n",
      "\n",
      "\n",
      "January 10 morning weather update\n",
      "\n",
      "\n",
      "How a Md. boy’s bout of Lyme led to a community tick research project\n",
      "\n",
      "\n",
      "FDA to allow Florida to import prescription drugs from Canada\n",
      "\n",
      "\n",
      "Sound waves get Alzheimer’s drug past brain barrier, small study shows\n",
      "\n",
      "\n",
      "Mouse caught on camera cleaning a man’s shed, night after night\n",
      "\n",
      "\n",
      "How will we remember this Michigan football team? As champions.\n",
      "\n",
      "\n",
      "NFL firings: In a surprise, Titans dismiss Mike Vrabel\n",
      "\n",
      "\n",
      "Second-half swoon leaves Terps women with rare loss to Michigan State\n",
      "\n",
      "\n",
      "Rash of turnovers ends the Hoyas’ hopes for a surprise of Seton Hall\n",
      "\n",
      "\n",
      "Where the Boeing 737 Max 9 flies\n",
      "\n",
      "\n",
      "Global economy headed for worst half-decade in 30 years, World Bank warns\n",
      "\n",
      "\n",
      "How many books did you read in 2023? Are you in the top 1 percent?\n",
      "\n",
      "\n",
      "JetBlue will have new CEO as it awaits ruling on merger with Spirit\n"
     ]
    }
   ]
  },
  {
   "cell_type": "markdown",
   "source": [
    "On va maintenant extraire les commentaires d'une vidéo [Youtube](https://www.youtube.com/) dont le lien est passé en paramètres"
   ],
   "metadata": {
    "id": "gbNDfhsOk0lE"
   }
  },
  {
   "cell_type": "markdown",
   "source": [
    "Desormais, on va effectuer un analyse de sentiment sur les réponses qu'on a obtenu ci dessus. \n",
    "L'objectif est de déterminer un ratio réponses positives/réponses négatives (en pourcentage) dans le but de remplacer les likes/dislikes, étant donné que YouTube a récemment supprimé la fonctionnalité de dislike."
   ],
   "metadata": {
    "collapsed": false
   }
  },
  {
   "cell_type": "code",
   "execution_count": 58,
   "outputs": [],
   "source": [
    "df = pd.read_csv(\"french_tweets.csv\")\n",
    "X = df.text\n",
    "y = df.label\n",
    "X_train, X_test, y_train, y_test = train_test_split(X, y, test_size=0.20, random_state=42)"
   ],
   "metadata": {
    "collapsed": false,
    "ExecuteTime": {
     "end_time": "2024-01-10T11:06:40.074665200Z",
     "start_time": "2024-01-10T11:06:37.753842200Z"
    }
   }
  },
  {
   "cell_type": "markdown",
   "source": [
    "Ici, on a choisi un modèle de type SVC. Dans tous les cas, il nous fallait un modèle capable de catégoriser les data et parmi ceux testés, c'est SVC qui a fourni le meilleur résultat. On utilise un pipeline pour coupler le modèle SVC avec un TfidfVectorizer permettant de traiter les données textuelles."
   ],
   "metadata": {
    "collapsed": false
   }
  },
  {
   "cell_type": "code",
   "execution_count": null,
   "outputs": [],
   "source": [
    "pipeline = Pipeline([('tfidf', TfidfVectorizer()),\n",
    "                     ('model', SVC())])\n",
    "\n",
    "parameters = {\"tfidf__ngram_range\": [(1, 1)],\n",
    "              \"model__kernel\": [\"rbf\"],\n",
    "              \"model__C\": np.logspace(-5,5,3)}\n",
    "\n",
    "pipeline_gs = GridSearchCV(pipeline, parameters)\n",
    "\n",
    "pipeline_gs.fit(X_train, y_train)\n",
    "print(pipeline_gs.best_params_)\n",
    "y_pred = pipeline_gs.predict(X_test)"
   ],
   "metadata": {
    "collapsed": false,
    "is_executing": true,
    "ExecuteTime": {
     "start_time": "2024-01-10T11:06:56.015674Z"
    }
   }
  },
  {
   "cell_type": "code",
   "execution_count": 47,
   "outputs": [
    {
     "data": {
      "text/plain": "'print(classification_report(y_test, y_pred, digits=3))\\n\\nprint(df.Sentiment.value_counts())'"
     },
     "execution_count": 47,
     "metadata": {},
     "output_type": "execute_result"
    }
   ],
   "source": [
    "print(classification_report(y_test, y_pred, digits=3))\n",
    "\n",
    "print(df.Sentiment.value_counts())"
   ],
   "metadata": {
    "collapsed": false,
    "ExecuteTime": {
     "end_time": "2024-01-10T11:02:27.227768600Z",
     "start_time": "2024-01-10T11:02:27.222673Z"
    }
   }
  },
  {
   "cell_type": "code",
   "execution_count": 55,
   "outputs": [
    {
     "name": "stdout",
     "output_type": "stream",
     "text": [
      "[1 1 1 1 5 1 1 5 5 1 1 5 1 1 1 5 5 1 1 1 5 1 1 5 5 1 1 1 1 1 5 1 5 5 5 5 5\n",
      " 1 1 1 1 4 1 1 5 1 5 5 1 1 1 1 5 2 1 5 1 1 1 1 1 5 1 5 1 1 1 1 5 1 5 1 1 5\n",
      " 5 5 1 1 1 1 1 1 5 1 1 1 5 1 1 1 1 1 5 5]\n"
     ]
    }
   ],
   "source": [
    "# Utilisez le modèle pour prédire les labels\n",
    "new_predictions = model.predict(titles)\n",
    "print(new_predictions)"
   ],
   "metadata": {
    "collapsed": false,
    "ExecuteTime": {
     "end_time": "2024-01-10T11:03:30.862463100Z",
     "start_time": "2024-01-10T11:03:30.684988800Z"
    }
   }
  },
  {
   "cell_type": "code",
   "execution_count": 56,
   "outputs": [
    {
     "name": "stdout",
     "output_type": "stream",
     "text": [
      "Positive news : 34.04 %\n",
      "Negative news : 65.96 %\n"
     ]
    }
   ],
   "source": [
    "nb_0 = 0\n",
    "nb_1 = 0\n",
    "for phrase, prediction in zip(titles, new_predictions):\n",
    "    if prediction==1 or prediction==2 :\n",
    "        nb_0 += 1\n",
    "    else :\n",
    "        nb_1 += 1\n",
    "print(\"Positive news :\", round(nb_1/(nb_0+nb_1) * 100,2), \"%\")\n",
    "print(\"Negative news :\", round(nb_0/(nb_0+nb_1) * 100,2), \"%\")"
   ],
   "metadata": {
    "collapsed": false,
    "ExecuteTime": {
     "end_time": "2024-01-10T11:03:31.908677800Z",
     "start_time": "2024-01-10T11:03:31.904911Z"
    }
   }
  },
  {
   "cell_type": "code",
   "execution_count": null,
   "outputs": [],
   "source": [
    "nouvelles_predictions = pipeline_gs.predict(titres)\n",
    "print(nouvelles_predictions)"
   ],
   "metadata": {
    "collapsed": false
   }
  },
  {
   "cell_type": "code",
   "execution_count": null,
   "outputs": [],
   "source": [
    "nb_0 = 0\n",
    "nb_1 = 0\n",
    "for phrase, prediction in zip(titres, nouvelles_predictions):\n",
    "    if prediction==0:\n",
    "        nb_0 += 1\n",
    "    else :\n",
    "        nb_1 += 1\n",
    "print(\"Positive news :\", round(nb_1/(nb_0+nb_1) * 100,2), \"%\")\n",
    "print(\"Negative news :\", round(nb_0/(nb_0+nb_1) * 100,2), \"%\")"
   ],
   "metadata": {
    "collapsed": false
   }
  }
 ]
}
