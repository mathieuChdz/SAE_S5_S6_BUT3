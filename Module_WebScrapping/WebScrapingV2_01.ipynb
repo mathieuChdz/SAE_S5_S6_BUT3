{
 "nbformat": 4,
 "nbformat_minor": 0,
 "metadata": {
  "colab": {
   "provenance": []
  },
  "kernelspec": {
   "name": "python3",
   "language": "python",
   "display_name": "Python 3 (ipykernel)"
  },
  "language_info": {
   "name": "python"
  }
 },
 "cells": [
  {
   "cell_type": "code",
   "execution_count": 12,
   "outputs": [
    {
     "name": "stdout",
     "output_type": "stream",
     "text": [
      "Requirement already satisfied: pandas in ./venv/lib/python3.11/site-packages (2.1.4)\r\n",
      "Requirement already satisfied: numpy<2,>=1.23.2 in ./venv/lib/python3.11/site-packages (from pandas) (1.26.3)\r\n",
      "Requirement already satisfied: python-dateutil>=2.8.2 in ./venv/lib/python3.11/site-packages (from pandas) (2.8.2)\r\n",
      "Requirement already satisfied: pytz>=2020.1 in ./venv/lib/python3.11/site-packages (from pandas) (2023.3.post1)\r\n",
      "Requirement already satisfied: tzdata>=2022.1 in ./venv/lib/python3.11/site-packages (from pandas) (2023.4)\r\n",
      "Requirement already satisfied: six>=1.5 in ./venv/lib/python3.11/site-packages (from python-dateutil>=2.8.2->pandas) (1.16.0)\r\n",
      "\r\n",
      "\u001B[1m[\u001B[0m\u001B[34;49mnotice\u001B[0m\u001B[1;39;49m]\u001B[0m\u001B[39;49m A new release of pip is available: \u001B[0m\u001B[31;49m23.2.1\u001B[0m\u001B[39;49m -> \u001B[0m\u001B[32;49m23.3.2\u001B[0m\r\n",
      "\u001B[1m[\u001B[0m\u001B[34;49mnotice\u001B[0m\u001B[1;39;49m]\u001B[0m\u001B[39;49m To update, run: \u001B[0m\u001B[32;49mpip install --upgrade pip\u001B[0m\r\n",
      "Note: you may need to restart the kernel to use updated packages.\n"
     ]
    }
   ],
   "source": [
    "pip install pandas"
   ],
   "metadata": {
    "collapsed": false,
    "ExecuteTime": {
     "end_time": "2024-01-10T19:42:20.416430Z",
     "start_time": "2024-01-10T19:42:19.401593Z"
    }
   }
  },
  {
   "cell_type": "code",
   "execution_count": 13,
   "outputs": [
    {
     "name": "stdout",
     "output_type": "stream",
     "text": [
      "Requirement already satisfied: scikit-learn in ./venv/lib/python3.11/site-packages (1.3.2)\r\n",
      "Requirement already satisfied: numpy<2.0,>=1.17.3 in ./venv/lib/python3.11/site-packages (from scikit-learn) (1.26.3)\r\n",
      "Requirement already satisfied: scipy>=1.5.0 in ./venv/lib/python3.11/site-packages (from scikit-learn) (1.11.4)\r\n",
      "Requirement already satisfied: joblib>=1.1.1 in ./venv/lib/python3.11/site-packages (from scikit-learn) (1.3.2)\r\n",
      "Requirement already satisfied: threadpoolctl>=2.0.0 in ./venv/lib/python3.11/site-packages (from scikit-learn) (3.2.0)\r\n",
      "\r\n",
      "\u001B[1m[\u001B[0m\u001B[34;49mnotice\u001B[0m\u001B[1;39;49m]\u001B[0m\u001B[39;49m A new release of pip is available: \u001B[0m\u001B[31;49m23.2.1\u001B[0m\u001B[39;49m -> \u001B[0m\u001B[32;49m23.3.2\u001B[0m\r\n",
      "\u001B[1m[\u001B[0m\u001B[34;49mnotice\u001B[0m\u001B[1;39;49m]\u001B[0m\u001B[39;49m To update, run: \u001B[0m\u001B[32;49mpip install --upgrade pip\u001B[0m\r\n",
      "Note: you may need to restart the kernel to use updated packages.\n"
     ]
    }
   ],
   "source": [
    "pip install scikit-learn"
   ],
   "metadata": {
    "collapsed": false,
    "ExecuteTime": {
     "end_time": "2024-01-10T19:42:21.286448Z",
     "start_time": "2024-01-10T19:42:20.414077Z"
    }
   }
  },
  {
   "cell_type": "code",
   "execution_count": 14,
   "metadata": {
    "id": "ZPb067kgLAh9",
    "ExecuteTime": {
     "end_time": "2024-01-10T19:42:21.293097Z",
     "start_time": "2024-01-10T19:42:21.288040Z"
    }
   },
   "outputs": [],
   "source": [
    "import requests\n",
    "from bs4 import BeautifulSoup\n",
    "import pandas as pd\n",
    "from sklearn.model_selection import train_test_split\n",
    "import joblib"
   ]
  },
  {
   "cell_type": "code",
   "execution_count": 15,
   "outputs": [],
   "source": [
    "model_english = joblib.load('train.joblib')\n",
    "model_francais = joblib.load('train2.joblib')"
   ],
   "metadata": {
    "collapsed": false,
    "ExecuteTime": {
     "end_time": "2024-01-10T19:42:21.383063Z",
     "start_time": "2024-01-10T19:42:21.291501Z"
    }
   }
  },
  {
   "cell_type": "markdown",
   "source": [
    "On va d'abord extraire les titres des articles d'un site d'information français, nous avons choisi le site [Le Monde](https://www.lemonde.fr/)"
   ],
   "metadata": {
    "id": "Kv36Z4-4hn3k"
   }
  },
  {
   "cell_type": "code",
   "source": [
    "url = 'https://www.lemonde.fr/'"
   ],
   "metadata": {
    "id": "J_7jChHjLMVN",
    "ExecuteTime": {
     "end_time": "2024-01-10T19:42:21.388555Z",
     "start_time": "2024-01-10T19:42:21.383209Z"
    }
   },
   "execution_count": 16,
   "outputs": []
  },
  {
   "cell_type": "code",
   "source": [
    "headers = {\n",
    "    'User-Agent': 'Mozilla/5.0 (Windows NT 10.0; Win64; x64) AppleWebKit/537.36 (KHTML, like Gecko) Chrome/91.0.4472.124 Safari/537.36'\n",
    "}\n",
    "response = requests.get(url, headers=headers)"
   ],
   "metadata": {
    "id": "Y3N4of4nLRq3",
    "ExecuteTime": {
     "end_time": "2024-01-10T19:42:21.465791Z",
     "start_time": "2024-01-10T19:42:21.387403Z"
    }
   },
   "execution_count": 17,
   "outputs": []
  },
  {
   "cell_type": "code",
   "source": [
    "titres = None\n",
    "if response.status_code == 200:\n",
    "    # Utiliser Beautiful Soup pour extraire le contenu HTML de la page\n",
    "    soup = BeautifulSoup(response.content, 'html.parser')\n",
    "\n",
    "    # Exemple : Extraire tous les titres d'articles\n",
    "    titres = soup.find_all('p', class_='article__title')\n",
    "\n",
    "    # Afficher les titres\n",
    "    for title in titres:\n",
    "        print(title.text.strip())\n",
    "        print(\"\\n\")\n",
    "else:\n",
    "    print(f\"La requête a échoué avec le code d'état {response.status_code}\")\n",
    "for i in range(len(titres)): \n",
    "    titres[i] = titres[i].text.strip()"
   ],
   "metadata": {
    "colab": {
     "base_uri": "https://localhost:8080/",
     "height": 0
    },
    "id": "2GUwI44RLfIt",
    "outputId": "86c632e6-2f90-4afe-c4e7-fe40ef716bbd",
    "ExecuteTime": {
     "end_time": "2024-01-10T19:42:21.495065Z",
     "start_time": "2024-01-10T19:42:21.492468Z"
    }
   },
   "execution_count": 18,
   "outputs": [
    {
     "name": "stdout",
     "output_type": "stream",
     "text": [
      "Le patron de Boeing reconnaît une « erreur » après la défaillance lors du vol Alaska Airlines\n",
      "\n",
      "\n",
      "Google, Apple vs Epic Games : « Le monopole des géants du numérique s’érode trop doucement »\n",
      "\n",
      "\n",
      "Cryptomonnaies : « Le bitcoin est au départ l’argent des pirates et des anarchistes du Net »\n",
      "\n",
      "\n",
      "COP28 : « Comment est né ce sentiment de satisfaction et d’héroïsme qui entoure les négociateurs »\n",
      "\n",
      "\n",
      "Israël-Palestine : que veut vraiment le Hamas ?\n",
      "\n",
      "\n",
      "Pourquoi l’avenir du Moyen-Orient dépend autant d’Israël\n",
      "\n",
      "\n",
      "En images : l’Ukraine touchée par « un nombre record de missiles » lancés par la Russie\n",
      "\n",
      "\n",
      "Les coulisses de notre enquête « Narco Business » sur le trafic de fentanyl des cartels mexicains\n",
      "\n",
      "\n",
      "Les risques du pari Gabriel Attal\n",
      "\n",
      "\n",
      "En ces temps tragiques, que nous est-il permis d’espérer ?\n",
      "\n",
      "\n",
      "« Emmanuel Macron a dû enclencher l’opération survie, moins de deux ans après sa réélection »\n",
      "\n",
      "\n",
      "Mort de Thomas à Crépol : « L’utilisation politicienne d’un fait divers et la stigmatisation d’une population ne peuvent constituer des réponses adaptées »\n",
      "\n",
      "\n",
      "« Si seulement je pouvais hiberner » : le récit filmé de la lutte pour la réussite d’un adolescent mongol\n",
      "\n",
      "\n",
      "« Odette Froyard en trois façons », d’Isabelle Monnin : archéologie d’une silencieuse grand-mère\n",
      "\n",
      "\n",
      "« J’étais dans le film », sur France Inter : nous, spectateurs de nos vies au cinéma\n",
      "\n",
      "\n",
      "Le réalisateur Samuel Theis visé par une enquête préliminaire après une accusation de viol\n",
      "\n",
      "\n",
      "Néli Pereira, l’alchimiste qui décolonise les cocktails brésiliens\n",
      "\n",
      "\n",
      "A La Villette, le design prend le rebut par le bon bout\n",
      "\n",
      "\n",
      "Design durable : notre sélection de trois créations zéro déchet\n",
      "\n",
      "\n",
      "Le « digital nomad », ce voyageur qui tire profit de son statut de travailleur précaire\n",
      "\n",
      "\n",
      "Le parcours d’obstacles qui attend Gabriel Attal à Matignon\n",
      "\n",
      "\n",
      "Neige et verglas : six départements en vigilance orange mercredi soir et jeudi\n",
      "\n",
      "\n",
      "Hicham Karmoussi, l’ex-majordome de Nasser Al-Khelaïfi, à l’origine d’une nouvelle enquête visant le président du PSG\n",
      "\n",
      "\n",
      "Une nouvelle étude pointe les conditions de vie dégradées de nombreux étudiants\n",
      "\n",
      "\n",
      "Les orques du Marineland d’Antibes ne partiront pas de façon imminente, mais les préparatifs ont débuté\n",
      "\n",
      "\n",
      "Gaza : les enjeux de la plainte pour génocide visant Israël devant la Cour internationale de justice\n",
      "\n",
      "\n",
      "Gabriel Attal à Matignon : les coulisses d’une nomination disputée\n",
      "\n",
      "\n",
      "L’eau en bouteille massivement polluée par des nanoparticules de plastique\n",
      "\n",
      "\n",
      "« Une réélection de Donald Trump provoquerait une onde de choc qui dépasserait largement l’Europe »\n",
      "\n",
      "\n",
      "Les risques du pari Gabriel Attal\n",
      "\n",
      "\n",
      "Comment parler d’une « économie de guerre » sans être soi-même en guerre\n",
      "\n",
      "\n",
      "« Emmanuel Macron a dû enclencher l’opération survie, moins de deux ans après sa réélection »\n",
      "\n",
      "\n",
      "En direct : Gabriel Attal, lors de sa visite d’un commissariat du Val-d’Oise, affiche sa fermeté en matière de sécurité\n",
      "\n",
      "\n",
      "En direct, guerre en Ukraine : le point sur la situation\n",
      "\n",
      "\n",
      "Neige et verglas : dix départements en vigilance orange, limitation de la vitesse à 70 km/h sur certains axes en Ile-de-France\n",
      "\n",
      "\n",
      "Gabriel Attal à Matignon : les coulisses d’une nomination disputée\n",
      "\n",
      "\n",
      "En Pologne, Mariusz Kaminski, ancien ministre de l’intérieur, arrêté au palais présidentiel\n",
      "\n",
      "\n",
      "Le cours du bitcoin s’envole après le piratage du compte de la SEC sur X\n",
      "\n",
      "\n",
      "Le patron de Boeing reconnaît une « erreur » après la défaillance lors du vol Alaska Airlines\n",
      "\n",
      "\n",
      "« Avec Gabriel Attal à Matignon, Emmanuel Macron concède qu’il a besoin de sa popularité pour redonner souffle et vie à son mandat »\n",
      "\n",
      "\n",
      "La Norvège pourrait être le premier pays à exploiter les ressources minières de ses fonds marins, malgré une opposition massive\n",
      "\n"
     ]
    }
   ]
  },
  {
   "cell_type": "markdown",
   "source": [
    "On va maintenant extraire les titres des articles d'un site d'information international, nous avons choisi le site américain [The Washington Post](https://www.washingtonpost.com/)"
   ],
   "metadata": {
    "id": "QChqcsoQiVJ8"
   }
  },
  {
   "cell_type": "code",
   "source": [
    "url2 = 'https://www.washingtonpost.com/'"
   ],
   "metadata": {
    "id": "gQZZnqpYe_Lc",
    "ExecuteTime": {
     "end_time": "2024-01-10T19:42:21.500785Z",
     "start_time": "2024-01-10T19:42:21.495683Z"
    }
   },
   "execution_count": 19,
   "outputs": []
  },
  {
   "cell_type": "code",
   "source": [
    "response2 = requests.get(url2, headers=headers)"
   ],
   "metadata": {
    "id": "fH1d5yVZfL1D",
    "ExecuteTime": {
     "end_time": "2024-01-10T19:42:21.677403Z",
     "start_time": "2024-01-10T19:42:21.498947Z"
    }
   },
   "execution_count": 20,
   "outputs": []
  },
  {
   "cell_type": "code",
   "source": [
    "titles = None\n",
    "if response2.status_code == 200:\n",
    "    # Utiliser Beautiful Soup pour extraire le contenu HTML de la page\n",
    "    soup = BeautifulSoup(response2.content, 'html.parser')\n",
    "\n",
    "    # Exemple : Extraire tous les titres d'articles\n",
    "    titles = soup.find_all('h2', class_='wpds-c-iiQaMf wpds-c-iiQaMf-ihElTZa-css')\n",
    "    titles = titles + soup.find_all('h2', class_='wpds-c-iiQaMf wpds-c-iiQaMf-ibYgSwf-css')\n",
    "\n",
    "    # Afficher les titres\n",
    "    for title in titles:\n",
    "        print(title.text.strip())\n",
    "        print(\"\\n\")\n",
    "else:\n",
    "    print(f\"La requête a échoué avec le code d'état {response.status_code}\")\n",
    "for i in range(len(titles)): \n",
    "    titles[i] = titles[i].text.strip()"
   ],
   "metadata": {
    "colab": {
     "base_uri": "https://localhost:8080/",
     "height": 0
    },
    "id": "Rsw73ApBfPSb",
    "outputId": "233070a0-1abc-4ba3-b593-4c1a3b0e79f5",
    "ExecuteTime": {
     "end_time": "2024-01-10T19:42:21.744246Z",
     "start_time": "2024-01-10T19:42:21.715088Z"
    }
   },
   "execution_count": 21,
   "outputs": [
    {
     "name": "stdout",
     "output_type": "stream",
     "text": [
      "Why the Iowa caucuses matter, and why they’re disparaged by critics\n",
      "\n",
      "\n",
      "Alaska Airlines to cancel all Boeing 737 Max 9 flights through Saturday\n",
      "\n",
      "\n",
      "Hunter Biden makes surprise appearance at House contempt hearing\n",
      "\n",
      "\n",
      "How well are you aging? How to discover your ‘fitness’ age.\n",
      "\n",
      "\n",
      "Should you take a magnesium supplement? Here’s what the science says.\n",
      "\n",
      "\n",
      "How to use rotisserie chicken as a shortcut to easy weeknight dinners\n",
      "\n",
      "\n",
      "7 ways to upgrade your home without replacing anything\n",
      "\n",
      "\n",
      "1 dead, several captured in attack on U.N. helicopter in Somalia, official says\n",
      "\n",
      "\n",
      "GOP governors in 15 states reject summer food money for kids\n",
      "\n",
      "\n",
      "White House weighs menthol ban amid dueling health, political pressures\n",
      "\n",
      "\n",
      "House GOP pivots to impeach Mayorkas as talks over border security languish\n",
      "\n",
      "\n",
      "The justices will keep Trump on the ballot. Here’s how (and why) they’ll do it.\n",
      "\n",
      "\n",
      "The best (and weirdest) tech we found at CES 2024\n",
      "\n",
      "\n",
      "Meet the woman who transformed Sam Altman into the avatar of AI\n",
      "\n",
      "\n",
      "The story behind the White House’s possible menthol cigarette ban\n",
      "\n",
      "\n",
      "Ancient DNA helps trace multiple sclerosis origins in European descendants\n",
      "\n",
      "\n",
      "Alaska Airlines to cancel all Boeing 737 Max 9 flights through Saturday\n",
      "\n",
      "\n",
      "Max Pacioretty endured a ‘long two years.’ But he’s starting to feel like himself.\n",
      "\n",
      "\n",
      "Weighing action against Hunter Biden, GOP resorts to falsehoods and feigned ignorance\n",
      "\n",
      "\n",
      "Finally, a sweeping look at Ethiopian art\n",
      "\n",
      "\n",
      "‘The Beekeeper’: More zzzzz than bzzzz\n",
      "\n",
      "\n",
      "The Commanders just hired a former NBA executive. Who is Bob Myers?\n",
      "\n",
      "\n",
      "Chinese PLA-linked vessels map the Indian Ocean for submarine warfare\n",
      "\n",
      "\n",
      "Week’s third storm to charge across U.S. with another blizzard, tornadoes\n",
      "\n",
      "\n",
      "On the Record\n",
      "\n",
      "\n",
      "Mini Meta Crossword\n",
      "\n",
      "\n",
      "Sudoku\n",
      "\n",
      "\n",
      "Keyword\n",
      "\n",
      "\n",
      "Trump wants revenge in 2024\n",
      "\n",
      "\n",
      "Think you need another car? Consider an e-bike instead.\n",
      "\n",
      "\n",
      "Chat with Perry Bacon Jr. about politics and beyond\n",
      "\n",
      "\n",
      "Tennessee state Rep. Justin Pearson on his generation’s fight for racial justice\n",
      "\n",
      "\n",
      "Hunter Biden makes surprise appearance at House contempt hearing\n",
      "\n",
      "\n",
      "Texas makes a most unconservative Supreme Court argument\n",
      "\n",
      "\n",
      "Republican governors in 15 states reject summer food money for kids\n",
      "\n",
      "\n",
      "Weighing action against Hunter Biden, GOP resorts to falsehoods and feigned ignorance\n",
      "\n",
      "\n",
      "Violent political threats surge as 2024 begins, haunting American democracy\n",
      "\n",
      "\n",
      "DeSantis returns to Florida as campaign lags and mood in Tallahassee shifts\n",
      "\n",
      "\n",
      "Asa Hutchinson reminds Iowans who forgot him: ‘I’m still running’\n",
      "\n",
      "\n",
      "House GOP keeps hyping the numbers on Hunter Biden’s foreign deals\n",
      "\n",
      "\n",
      "Impeachment frenzy hits Capitol Hill\n",
      "\n",
      "\n",
      "Congress may need short-term government funding bill despite deal\n",
      "\n",
      "\n",
      "Lloyd Austin was treated for prostate cancer before emergency, Pentagon reveals\n",
      "\n",
      "\n",
      "Fani Willis accused of misconduct by Trump co-defendant in Georgia case\n",
      "\n",
      "\n",
      "Trump warns of ‘bedlam,’ declines to rule out violence after court hearing\n",
      "\n",
      "\n",
      "Ask Amy: Update from new mom whose husband takes constant work trips\n",
      "\n",
      "\n",
      "Miss Manners: I criticized cruises in front of a friend about to take one\n",
      "\n",
      "\n",
      "Work Advice: How a boss can learn to stop worrying and love hybrid work\n",
      "\n",
      "\n",
      "Should we tell our family and friends about our son’s autism diagnosis?\n",
      "\n",
      "\n",
      "Should I take Paxlovid if I get covid? Here’s what to know.\n",
      "\n",
      "\n",
      "Pets may lower your dementia risk\n",
      "\n",
      "\n",
      "Your brain needs more rest than you’re giving it. These 9 tips can help.\n",
      "\n",
      "\n",
      "Try these quick fixes for congestion, sneezing and other sinus woes\n",
      "\n",
      "\n",
      "How plastic hides in supposedly eco-friendly laundry products\n",
      "\n",
      "\n",
      "Scientists knew 2023’s heat would be historic — but not by this much\n",
      "\n",
      "\n",
      "The surprise reason these car brands are getting more expensive to drive\n",
      "\n",
      "\n",
      "Yellow school buses are going green with a $1 billion investment\n",
      "\n",
      "\n",
      "Week’s third storm to charge across U.S. with another blizzard, tornadoes\n",
      "\n",
      "\n",
      "How to prepare your home for extreme cold, and stay warm in a power outage\n",
      "\n",
      "\n",
      "Total solar eclipses will some day be impossible. Here’s why.\n",
      "\n",
      "\n",
      "Spectacular stars and Wolf Moon: What to spy in January’s night skies\n",
      "\n",
      "\n",
      "Instagram’s new teen safety features still fall short, critics say\n",
      "\n",
      "\n",
      "Amazon’s AI-written product reviews aren’t as bad as you think\n",
      "\n",
      "\n",
      "Substack wanted to be neutral. Its tolerance of Nazis proved divisive.\n",
      "\n",
      "\n",
      "Duolingo cuts workers as it relies more on AI\n",
      "\n",
      "\n",
      "Amalija Knavs, mother of former first lady Melania Trump, dies at 78\n",
      "\n",
      "\n",
      "Man who was subject of Jan. 6 conspiracies sentenced to probation\n",
      "\n",
      "\n",
      "NRA defense denies corruption, praises group’s work in New York trial\n",
      "\n",
      "\n",
      "NBA player finds dog, tracks down owner. The pup had been missing 4 years.\n",
      "\n",
      "\n",
      "Taiwan’s election explained: What’s at stake, and how will China react?\n",
      "\n",
      "\n",
      "U.S. citizen arrested on drug charges in Russia\n",
      "\n",
      "\n",
      "Gabriel Attal: What to know about France’s youngest prime minister\n",
      "\n",
      "\n",
      "South Korea bans dog meat trade as animal welfare attitudes shift\n",
      "\n",
      "\n",
      "The intriguing tale of a woman’s search for her Korean birth family\n",
      "\n",
      "\n",
      "‘Mean Girls’ is an adaptation of an adaptation. It’s one of many.\n",
      "\n",
      "\n",
      "The miraculous year when Picasso became Picasso\n",
      "\n",
      "\n",
      "The most anticipated video games of 2024\n",
      "\n",
      "\n",
      "Two Md. kids got a chance to show off their cooking skills on a big stage\n",
      "\n",
      "\n",
      "Don L. Scott Jr. sworn in as Virginia’s first Black House speaker\n",
      "\n",
      "\n",
      "Money issues, juvenile justice to animate Md. General Assembly session\n",
      "\n",
      "\n",
      "Largo High School student charged with murder in fatal shooting\n",
      "\n",
      "\n",
      "D.C.-area forecast: Drying out today with a gusty breeze. Next storm arrives late Friday.\n",
      "\n",
      "\n",
      "January 10 morning weather update\n",
      "\n",
      "\n",
      "How Lloyd Austin’s prostate cancer surgery led to hospitalization\n",
      "\n",
      "\n",
      "Here’s what you’re really swallowing when you drink bottled water\n",
      "\n",
      "\n",
      "Would-be historic lunar mission won’t reach moon’s surface, company says\n",
      "\n",
      "\n",
      "Sound waves get Alzheimer’s drug past brain barrier, small study shows\n",
      "\n",
      "\n",
      "The Commanders just hired a former NBA executive. Who is Bob Myers?\n",
      "\n",
      "\n",
      "If Bill Belichick is available, any smart NFL owner should want him\n",
      "\n",
      "\n",
      "What D.C. United sees in new coach Troy Lesesne\n",
      "\n",
      "\n",
      "NFL firings: Bears keep Matt Eberflus, Titans surprisingly oust Mike Vrabel\n",
      "\n",
      "\n",
      "Boeing CEO pledges to own up to ‘mistake’ after midair incident\n",
      "\n",
      "\n",
      "Where the Boeing 737 Max 9 flies\n",
      "\n",
      "\n",
      "Hot sauce powders recalled over ‘life-threatening’ wheat label omission\n",
      "\n",
      "\n",
      "How many books did you read in 2023? Are you in the top 1 percent?\n",
      "\n"
     ]
    }
   ]
  },
  {
   "cell_type": "markdown",
   "source": [
    "Desormais, on va effectuer un analyse de sentiment sur les réponses qu'on a obtenu ci dessus. \n",
    "L'objectif est de déterminer un ratio de titre d'article positifs/négatifs (en pourcentage)"
   ],
   "metadata": {
    "collapsed": false
   }
  },
  {
   "cell_type": "markdown",
   "source": [
    "Ici, on a choisi un modèle de type SVC. Dans tous les cas, il nous fallait un modèle capable de catégoriser les data et parmi ceux testés, c'est SVC qui a fourni le meilleur résultat. On utilise un pipeline pour coupler le modèle SVC avec un TfidfVectorizer permettant de traiter les données textuelles."
   ],
   "metadata": {
    "collapsed": false
   }
  },
  {
   "cell_type": "code",
   "execution_count": 22,
   "outputs": [
    {
     "name": "stdout",
     "output_type": "stream",
     "text": [
      "[1 1 1 5 1 5 5 1 1 1 1 5 5 5 1 5 1 1 1 1 1 1 1 1 5 5 1 1 1 1 5 1 1 1 1 1 5\n",
      " 5 1 5 1 1 1 1 1 5 1 5 5 1 1 1 1 5 2 5 1 1 5 1 1 1 1 5 1 1 1 1 1 5 1 5 1 1\n",
      " 1 5 5 1 5 1 5 1 1 5 1 1 1 1 1 5 1 1 1 1 5]\n"
     ]
    }
   ],
   "source": [
    "# Utilisez le modèle pour prédire les labels\n",
    "new_predictions = model_english.predict(titles)\n",
    "print(new_predictions)"
   ],
   "metadata": {
    "collapsed": false,
    "ExecuteTime": {
     "end_time": "2024-01-10T19:42:21.870243Z",
     "start_time": "2024-01-10T19:42:21.744481Z"
    }
   }
  },
  {
   "cell_type": "code",
   "execution_count": 23,
   "outputs": [
    {
     "name": "stdout",
     "output_type": "stream",
     "text": [
      "Positive or neutral news : 30.53 %\n",
      "Negative news : 69.47 %\n"
     ]
    }
   ],
   "source": [
    "nb_0 = 0\n",
    "nb_1 = 0\n",
    "for phrase, prediction in zip(titles, new_predictions):\n",
    "    if prediction==1 or prediction==2 :\n",
    "        nb_0 += 1\n",
    "    else :\n",
    "        nb_1 += 1\n",
    "print(\"Positive or neutral news :\", round(nb_1/(nb_0+nb_1) * 100,2), \"%\")\n",
    "print(\"Negative news :\", round(nb_0/(nb_0+nb_1) * 100,2), \"%\")"
   ],
   "metadata": {
    "collapsed": false,
    "ExecuteTime": {
     "end_time": "2024-01-10T19:42:21.870916Z",
     "start_time": "2024-01-10T19:42:21.868233Z"
    }
   }
  },
  {
   "cell_type": "code",
   "execution_count": 24,
   "outputs": [
    {
     "name": "stdout",
     "output_type": "stream",
     "text": [
      "[0 0 1 1 0 1 1 1 1 1 0 0 1 1 1 1 1 1 1 1 1 1 1 1 0 1 1 0 1 1 0 0 1 1 1 1 1\n",
      " 1 0 0 1]\n"
     ]
    }
   ],
   "source": [
    "nouvelles_predictions = model_francais.predict(titres)\n",
    "print(nouvelles_predictions)"
   ],
   "metadata": {
    "collapsed": false,
    "ExecuteTime": {
     "end_time": "2024-01-10T19:42:22.019276Z",
     "start_time": "2024-01-10T19:42:21.872278Z"
    }
   }
  },
  {
   "cell_type": "code",
   "execution_count": 25,
   "outputs": [
    {
     "name": "stdout",
     "output_type": "stream",
     "text": [
      "Infos positives ou neutres: 73.17 %\n",
      "Infos négatives : 26.83 %\n"
     ]
    }
   ],
   "source": [
    "nb_0 = 0\n",
    "nb_1 = 0\n",
    "for phrase, prediction in zip(titres, nouvelles_predictions):\n",
    "    if prediction==0:\n",
    "        nb_0 += 1\n",
    "    else :\n",
    "        nb_1 += 1\n",
    "print(\"Infos positives ou neutres:\", round(nb_1/(nb_0+nb_1) * 100,2), \"%\")\n",
    "print(\"Infos négatives :\", round(nb_0/(nb_0+nb_1) * 100,2), \"%\")"
   ],
   "metadata": {
    "collapsed": false,
    "ExecuteTime": {
     "end_time": "2024-01-10T19:42:22.024202Z",
     "start_time": "2024-01-10T19:42:22.018665Z"
    }
   }
  }
 ]
}
